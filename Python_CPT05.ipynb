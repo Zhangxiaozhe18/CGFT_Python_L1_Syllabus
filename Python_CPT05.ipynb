{
 "cells": [
  {
   "cell_type": "code",
   "execution_count": 2,
   "metadata": {},
   "outputs": [
    {
     "name": "stdout",
     "output_type": "stream",
     "text": [
      "your age is: 20\n",
      "adult\n"
     ]
    }
   ],
   "source": [
    "#if语句判断age是否大于18，如果true打印两行字符串到控制台\n",
    "age = 20\n",
    "if(age > 18):   \n",
    "    print(\"your age is: %s\" % age)\n",
    "    print(\"adult\")"
   ]
  },
  {
   "cell_type": "code",
   "execution_count": 3,
   "metadata": {},
   "outputs": [
    {
     "name": "stdout",
     "output_type": "stream",
     "text": [
      "you are only: 10\n",
      "teenager\n"
     ]
    }
   ],
   "source": [
    "# 因为age > 18为False，程序自动执行else下面的语句\n",
    "age = 10\n",
    "if(age > 18):   \n",
    "    print(\"your age is: %s\" % age)\n",
    "    print(\"adult\")\n",
    "else :\n",
    "    print(\"you are only: %s\" % age)\n",
    "    print(\"teenager\")"
   ]
  },
  {
   "cell_type": "code",
   "execution_count": 4,
   "metadata": {},
   "outputs": [
    {
     "name": "stdout",
     "output_type": "stream",
     "text": [
      "teenager\n"
     ]
    }
   ],
   "source": [
    "age = 10\n",
    "if(age > 18):   \n",
    "    print(\"adult\")\n",
    "elif(age > 6) :\n",
    "    print(\"teenager\")\n",
    "elif(age > 2) :\n",
    "    print(\"kid\")\n",
    "else :\n",
    "    print(\"baby\")"
   ]
  },
  {
   "cell_type": "code",
   "execution_count": 5,
   "metadata": {},
   "outputs": [
    {
     "name": "stdout",
     "output_type": "stream",
     "text": [
      "baby\n"
     ]
    }
   ],
   "source": [
    "# 前面三个条件判断都不满足，Python执行最后else中的代码\n",
    "age = 1\n",
    "if(age > 18):   \n",
    "    print(\"adult\")\n",
    "elif(age > 6) :\n",
    "    print(\"teenager\")\n",
    "elif(age > 2) :\n",
    "    print(\"kid\")\n",
    "else :\n",
    "    print(\"baby\")"
   ]
  },
  {
   "cell_type": "code",
   "execution_count": 6,
   "metadata": {},
   "outputs": [
    {
     "name": "stdout",
     "output_type": "stream",
     "text": [
      "hello CGFT!\n",
      "hello CGFT!\n",
      "hello CGFT!\n",
      "hello CGFT!\n",
      "hello CGFT!\n",
      "hello CGFT!\n",
      "hello CGFT!\n",
      "hello CGFT!\n",
      "hello CGFT!\n",
      "hello CGFT!\n"
     ]
    }
   ],
   "source": [
    "i = 0\n",
    "while(i < 10):\n",
    "    print(\"hello CGFT!\")\n",
    "    i = i + 1"
   ]
  },
  {
   "cell_type": "code",
   "execution_count": 7,
   "metadata": {},
   "outputs": [
    {
     "name": "stdout",
     "output_type": "stream",
     "text": [
      "Andy\n",
      "Bob\n",
      "Claire\n"
     ]
    }
   ],
   "source": [
    "names = [\"Andy\", \"Bob\", \"Claire\"]\n",
    "for name in names:\n",
    "    print(name)"
   ]
  },
  {
   "cell_type": "code",
   "execution_count": 8,
   "metadata": {},
   "outputs": [
    {
     "name": "stdout",
     "output_type": "stream",
     "text": [
      "55\n"
     ]
    }
   ],
   "source": [
    "sum = 0\n",
    "for x in (1,2,3,4,5,6,7,8,9,10):\n",
    "    sum = sum + x\n",
    "print(sum)"
   ]
  },
  {
   "cell_type": "code",
   "execution_count": 9,
   "metadata": {},
   "outputs": [
    {
     "name": "stdout",
     "output_type": "stream",
     "text": [
      "0\n",
      "1\n",
      "2\n",
      "3\n",
      "4\n"
     ]
    }
   ],
   "source": [
    "for i in range(5):\n",
    "    print(i)"
   ]
  },
  {
   "cell_type": "code",
   "execution_count": 10,
   "metadata": {},
   "outputs": [
    {
     "name": "stdout",
     "output_type": "stream",
     "text": [
      "1\n",
      "2\n",
      "3\n",
      "4\n",
      "5\n",
      "6\n",
      "7\n",
      "8\n",
      "9\n",
      "10\n",
      "END\n"
     ]
    }
   ],
   "source": [
    "n = 1\n",
    "while n <= 100:\n",
    "    if n > 10:\n",
    "        break\n",
    "    print(n)\n",
    "    n = n + 1\n",
    "print('END')"
   ]
  },
  {
   "cell_type": "code",
   "execution_count": 11,
   "metadata": {},
   "outputs": [
    {
     "name": "stdout",
     "output_type": "stream",
     "text": [
      "1\n",
      "3\n",
      "5\n",
      "7\n",
      "9\n"
     ]
    }
   ],
   "source": [
    "n = 0\n",
    "while n < 10:\n",
    "    n = n + 1\n",
    "    if(n%2 == 0):  #如果n是偶数，执行continue。\n",
    "        continue   #continue会直接继续下一轮循环，当次循环的print()不会执行\n",
    "    print(n)"
   ]
  },
  {
   "cell_type": "code",
   "execution_count": null,
   "metadata": {},
   "outputs": [],
   "source": [
    "with open(\"logfile\",\"a\") as logfile:\n",
    "    f.write(\"adding text here...\")\n",
    "    # some actions...\n",
    "    f.write(\"done\")"
   ]
  },
  {
   "cell_type": "code",
   "execution_count": 13,
   "metadata": {},
   "outputs": [
    {
     "name": "stdout",
     "output_type": "stream",
     "text": [
      "进入with方法块前，会调用上下文管理器的__enter__方法\n",
      "with 语句块代码执行中...\n",
      "with语句块中的代码执行完，会调用上下文管理器的__exit__方法\n"
     ]
    }
   ],
   "source": [
    "class DBManager(object):\n",
    "    def __init__(self):\n",
    "        pass\n",
    "    def __enter__(self):\n",
    "        print('进入with方法块前，会调用上下文管理器的__enter__方法')\n",
    "        return self\n",
    "    def __exit__(self, exc_type, exc_val, exc_tb):\n",
    "        print('with语句块中的代码执行完，会调用上下文管理器的__exit__方法')\n",
    "        return True\n",
    "        \n",
    "def getInstance():\n",
    "    return DBManager()\n",
    "\n",
    "with getInstance() as dbManagerIns:\n",
    "    print('with 语句块代码执行中...')"
   ]
  },
  {
   "cell_type": "code",
   "execution_count": 18,
   "metadata": {},
   "outputs": [
    {
     "name": "stdout",
     "output_type": "stream",
     "text": [
      "[Allocate resources]\n",
      "Code before yield-statement executes in __enter__\n",
      "Assigned Value: *** contextmanager demo ***\n",
      "Code after yield-statement executes in __exit__\n",
      "[Free resources]\n"
     ]
    }
   ],
   "source": [
    "from contextlib import contextmanager\n",
    "\n",
    "@contextmanager\n",
    "def demo():\n",
    "    print('[Allocate resources]')\n",
    "    print('Code before yield-statement executes in __enter__') \n",
    "    yield '*** contextmanager demo ***'\n",
    "    print('Code after yield-statement executes in __exit__')\n",
    "    print('[Free resources]') \n",
    "\n",
    "with demo() as value:\n",
    "    print('Assigned Value: %s' % value)"
   ]
  },
  {
   "cell_type": "code",
   "execution_count": null,
   "metadata": {},
   "outputs": [],
   "source": []
  }
 ],
 "metadata": {
  "kernelspec": {
   "display_name": "Python 3",
   "language": "python",
   "name": "python3"
  },
  "language_info": {
   "codemirror_mode": {
    "name": "ipython",
    "version": 3
   },
   "file_extension": ".py",
   "mimetype": "text/x-python",
   "name": "python",
   "nbconvert_exporter": "python",
   "pygments_lexer": "ipython3",
   "version": "3.6.8"
  }
 },
 "nbformat": 4,
 "nbformat_minor": 2
}

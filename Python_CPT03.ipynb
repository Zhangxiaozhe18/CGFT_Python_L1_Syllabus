{
 "cells": [
  {
   "cell_type": "code",
   "execution_count": 1,
   "metadata": {},
   "outputs": [
    {
     "name": "stdout",
     "output_type": "stream",
     "text": [
      "Hello\n"
     ]
    }
   ],
   "source": [
    "a = \"Hello\"\n",
    "print(a)"
   ]
  },
  {
   "cell_type": "code",
   "execution_count": 2,
   "metadata": {},
   "outputs": [],
   "source": [
    "a = 1  #变量a是一个整数。"
   ]
  },
  {
   "cell_type": "code",
   "execution_count": 4,
   "metadata": {},
   "outputs": [],
   "source": [
    "str = 'This is A String.'  #变量t_007是一个字符串"
   ]
  },
  {
   "cell_type": "code",
   "execution_count": 5,
   "metadata": {},
   "outputs": [
    {
     "name": "stdout",
     "output_type": "stream",
     "text": [
      "123\n",
      "This is A String\n"
     ]
    }
   ],
   "source": [
    "var = 123 # a是整数\n",
    "print(var)\n",
    "var = 'This is A String' # a变为字符串\n",
    "print(var)"
   ]
  },
  {
   "cell_type": "code",
   "execution_count": 6,
   "metadata": {},
   "outputs": [
    {
     "name": "stdout",
     "output_type": "stream",
     "text": [
      "10\n"
     ]
    }
   ],
   "source": [
    "a = 3\n",
    "a = a + 7\n",
    "print(a)"
   ]
  },
  {
   "cell_type": "code",
   "execution_count": 7,
   "metadata": {},
   "outputs": [],
   "source": [
    "PI = 3.14159265359"
   ]
  },
  {
   "cell_type": "code",
   "execution_count": 2,
   "metadata": {},
   "outputs": [
    {
     "data": {
      "text/plain": [
       "False"
      ]
     },
     "execution_count": 2,
     "metadata": {},
     "output_type": "execute_result"
    }
   ],
   "source": [
    "1 > 2  #判断1是否大于2，返回一个False的布尔值"
   ]
  },
  {
   "cell_type": "code",
   "execution_count": 3,
   "metadata": {},
   "outputs": [
    {
     "data": {
      "text/plain": [
       "False"
      ]
     },
     "execution_count": 3,
     "metadata": {},
     "output_type": "execute_result"
    }
   ],
   "source": [
    "3>1 and 1>2   #逻辑与运算，判断3>1并且1>2这一判断是否为真，结果返回布尔值False"
   ]
  },
  {
   "cell_type": "code",
   "execution_count": 4,
   "metadata": {},
   "outputs": [
    {
     "data": {
      "text/plain": [
       "True"
      ]
     },
     "execution_count": 4,
     "metadata": {},
     "output_type": "execute_result"
    }
   ],
   "source": [
    "3>1 or 1>2   #逻辑或运算，判断3>1或者1>2这一判断是否为真，结果返回布尔值True"
   ]
  },
  {
   "cell_type": "code",
   "execution_count": 6,
   "metadata": {},
   "outputs": [
    {
     "data": {
      "text/plain": [
       "False"
      ]
     },
     "execution_count": 6,
     "metadata": {},
     "output_type": "execute_result"
    }
   ],
   "source": [
    "not 3>1  #逻辑非运算，判断3>1并返回它的相反值"
   ]
  },
  {
   "cell_type": "code",
   "execution_count": 7,
   "metadata": {},
   "outputs": [
    {
     "name": "stdout",
     "output_type": "stream",
     "text": [
      "123\n",
      "162\n",
      "1000\n"
     ]
    }
   ],
   "source": [
    "#整数的表示方法\n",
    "print(123)\n",
    "print(0xa2)\n",
    "print(10_00)"
   ]
  },
  {
   "cell_type": "code",
   "execution_count": 8,
   "metadata": {},
   "outputs": [
    {
     "name": "stdout",
     "output_type": "stream",
     "text": [
      "1.23\n",
      "12800.0\n",
      "0.00123\n"
     ]
    }
   ],
   "source": [
    "#浮点数的表示方法\n",
    "print(1.23)\n",
    "print(12.8e3)\n",
    "print(0.00123)"
   ]
  },
  {
   "cell_type": "code",
   "execution_count": 9,
   "metadata": {},
   "outputs": [],
   "source": [
    "str1 = \"hello\"  #这定义了字符串\n",
    "str2 = 'Python' #同样用单引号也可以定义字符串 \n",
    "str3 = ''' Python tutorial\n",
    "in CGFT'''      #定义多行字符串变量"
   ]
  },
  {
   "cell_type": "code",
   "execution_count": 13,
   "metadata": {},
   "outputs": [
    {
     "name": "stdout",
     "output_type": "stream",
     "text": [
      "a\n"
     ]
    }
   ],
   "source": [
    "name = \"zhang\"\n",
    "print(name[2])"
   ]
  },
  {
   "cell_type": "code",
   "execution_count": 14,
   "metadata": {},
   "outputs": [
    {
     "name": "stdout",
     "output_type": "stream",
     "text": [
      "abc\n"
     ]
    }
   ],
   "source": [
    "name = \"abcdef\"\n",
    "print(name[0:3])  #取下标0~2的字符，运行结果abc"
   ]
  },
  {
   "cell_type": "code",
   "execution_count": 15,
   "metadata": {},
   "outputs": [
    {
     "name": "stdout",
     "output_type": "stream",
     "text": [
      "cdef\n"
     ]
    }
   ],
   "source": [
    "name = \"abcdef\"\n",
    "print(name[2:])  #取下标为2开始到最后的字符， 运行结果cdef"
   ]
  },
  {
   "cell_type": "code",
   "execution_count": 16,
   "metadata": {},
   "outputs": [
    {
     "name": "stdout",
     "output_type": "stream",
     "text": [
      "bcde\n"
     ]
    }
   ],
   "source": [
    "name = \"abcdef\"\n",
    "print(name[1:-1])  #取下标为1开始到最后第二个字符， 运行结果bcde"
   ]
  },
  {
   "cell_type": "code",
   "execution_count": 19,
   "metadata": {},
   "outputs": [
    {
     "data": {
      "text/plain": [
       "12"
      ]
     },
     "execution_count": 19,
     "metadata": {},
     "output_type": "execute_result"
    }
   ],
   "source": [
    "mystr = \"hello world python\"\n",
    "mystr.find(\"python\")    #mystr中包含子字符串python，方法find()返回子字符串的第一个字符的索引位置"
   ]
  },
  {
   "cell_type": "code",
   "execution_count": 21,
   "metadata": {},
   "outputs": [
    {
     "ename": "ValueError",
     "evalue": "substring not found",
     "output_type": "error",
     "traceback": [
      "\u001b[0;31m---------------------------------------------------------------------------\u001b[0m",
      "\u001b[0;31mValueError\u001b[0m                                Traceback (most recent call last)",
      "\u001b[0;32m<ipython-input-21-ce17064bdafc>\u001b[0m in \u001b[0;36m<module>\u001b[0;34m\u001b[0m\n\u001b[1;32m      1\u001b[0m \u001b[0mmystr\u001b[0m \u001b[0;34m=\u001b[0m \u001b[0;34m\"hello world python\"\u001b[0m\u001b[0;34m\u001b[0m\u001b[0;34m\u001b[0m\u001b[0m\n\u001b[0;32m----> 2\u001b[0;31m \u001b[0mmystr\u001b[0m\u001b[0;34m.\u001b[0m\u001b[0mindex\u001b[0m\u001b[0;34m(\u001b[0m\u001b[0;34m\"CGFT\"\u001b[0m\u001b[0;34m)\u001b[0m    \u001b[0;31m#mystr中不包含子字符串CGFT，抛出异常\u001b[0m\u001b[0;34m\u001b[0m\u001b[0;34m\u001b[0m\u001b[0m\n\u001b[0m",
      "\u001b[0;31mValueError\u001b[0m: substring not found"
     ]
    }
   ],
   "source": [
    "mystr = \"hello world python\"\n",
    "mystr.index(\"CGFT\")    #mystr中不包含子字符串CGFT，抛出异常"
   ]
  },
  {
   "cell_type": "code",
   "execution_count": 23,
   "metadata": {},
   "outputs": [
    {
     "data": {
      "text/plain": [
       "2"
      ]
     },
     "execution_count": 23,
     "metadata": {},
     "output_type": "execute_result"
    }
   ],
   "source": [
    "mystr = \"hello CGFT and CGFT\"\n",
    "mystr.count(\"CGFT\")    #字符串”CGFT”在mystr中出现了2次"
   ]
  },
  {
   "cell_type": "code",
   "execution_count": 29,
   "metadata": {},
   "outputs": [
    {
     "name": "stdout",
     "output_type": "stream",
     "text": [
      "hello Python and Python\n"
     ]
    }
   ],
   "source": [
    "mystr = \"hello CGFT and CGFT\"\n",
    "mystr = mystr.replace(\"CGFT\", \"Python\")    #mystr里的所有子字符串”CGFT”被替换为Python\n",
    "print(mystr)"
   ]
  },
  {
   "cell_type": "code",
   "execution_count": 32,
   "metadata": {},
   "outputs": [
    {
     "name": "stdout",
     "output_type": "stream",
     "text": [
      "['hello', 'CGFT', 'and', 'CGFT']\n"
     ]
    }
   ],
   "source": [
    "mystr = \"hello CGFT and CGFT\"\n",
    "mysplit = mystr.split(\" \")  #将字符串mystr按照“ ”进行分割，得到4个子字符串 \n",
    "print(mysplit)"
   ]
  },
  {
   "cell_type": "code",
   "execution_count": 34,
   "metadata": {},
   "outputs": [
    {
     "name": "stdout",
     "output_type": "stream",
     "text": [
      "True\n"
     ]
    }
   ],
   "source": [
    "mystr = \"hello CGFT and CGFT\"\n",
    "print(mystr.startswith(\"hello\"))"
   ]
  },
  {
   "cell_type": "code",
   "execution_count": 1,
   "metadata": {},
   "outputs": [
    {
     "name": "stdout",
     "output_type": "stream",
     "text": [
      "True\n"
     ]
    }
   ],
   "source": [
    "mystr = \"hello CGFT and CGFT\"\n",
    "print(mystr.endswith(\"CGFT\"))"
   ]
  },
  {
   "cell_type": "code",
   "execution_count": 2,
   "metadata": {},
   "outputs": [
    {
     "name": "stdout",
     "output_type": "stream",
     "text": [
      "HELLO CGFT AND CGFT\n"
     ]
    }
   ],
   "source": [
    "mystr = \"hello CGFT and CGFT\"\n",
    "print(mystr.upper())"
   ]
  },
  {
   "cell_type": "code",
   "execution_count": 5,
   "metadata": {},
   "outputs": [
    {
     "name": "stdout",
     "output_type": "stream",
     "text": [
      "hello CGFT and CGFT\n"
     ]
    }
   ],
   "source": [
    "mystr = \"               hello CGFT and CGFT\"  #左边的空白字符都会被去掉\n",
    "print(mystr.lstrip())"
   ]
  },
  {
   "cell_type": "code",
   "execution_count": 7,
   "metadata": {},
   "outputs": [
    {
     "ename": "AttributeError",
     "evalue": "'str' object has no attribute 'append'",
     "output_type": "error",
     "traceback": [
      "\u001b[0;31m---------------------------------------------------------------------------\u001b[0m",
      "\u001b[0;31mAttributeError\u001b[0m                            Traceback (most recent call last)",
      "\u001b[0;32m<ipython-input-7-da55ed2b029f>\u001b[0m in \u001b[0;36m<module>\u001b[0;34m\u001b[0m\n\u001b[1;32m      1\u001b[0m \u001b[0mmystr\u001b[0m \u001b[0;34m=\u001b[0m \u001b[0;34m\"hello \"\u001b[0m\u001b[0;34m;\u001b[0m\u001b[0;34m\u001b[0m\u001b[0;34m\u001b[0m\u001b[0m\n\u001b[0;32m----> 2\u001b[0;31m \u001b[0mnewstr\u001b[0m \u001b[0;34m=\u001b[0m \u001b[0mmystr\u001b[0m\u001b[0;34m.\u001b[0m\u001b[0mappend\u001b[0m\u001b[0;34m(\u001b[0m\u001b[0;34m\"CGFT\"\u001b[0m\u001b[0;34m)\u001b[0m\u001b[0;34m;\u001b[0m\u001b[0;34m\u001b[0m\u001b[0;34m\u001b[0m\u001b[0m\n\u001b[0m\u001b[1;32m      3\u001b[0m \u001b[0mprint\u001b[0m\u001b[0;34m(\u001b[0m\u001b[0mnewstr\u001b[0m\u001b[0;34m)\u001b[0m\u001b[0;34m;\u001b[0m\u001b[0;34m\u001b[0m\u001b[0;34m\u001b[0m\u001b[0m\n",
      "\u001b[0;31mAttributeError\u001b[0m: 'str' object has no attribute 'append'"
     ]
    }
   ],
   "source": [
    "mystr = \"hello \";\n",
    "newstr = mystr.append(\"CGFT\");\n",
    "print(newstr);"
   ]
  },
  {
   "cell_type": "markdown",
   "metadata": {},
   "source": [
    "# 列表list"
   ]
  },
  {
   "cell_type": "code",
   "execution_count": 8,
   "metadata": {},
   "outputs": [],
   "source": [
    "list1 = ['hello', 1.23e8, \"CGFT\"]  #比C语言的数组强大的地方在于列表中的元素可以是不同类型的"
   ]
  },
  {
   "cell_type": "code",
   "execution_count": 9,
   "metadata": {},
   "outputs": [
    {
     "name": "stdout",
     "output_type": "stream",
     "text": [
      "3\n"
     ]
    }
   ],
   "source": [
    "#用len获取list长度\n",
    "students = [\"zhangsan\", \"lisi\", \"wangwu\"]\n",
    "print(len(students))"
   ]
  },
  {
   "cell_type": "code",
   "execution_count": 10,
   "metadata": {},
   "outputs": [
    {
     "name": "stdout",
     "output_type": "stream",
     "text": [
      "zhangsan\n",
      "lisi\n",
      "wangwu\n"
     ]
    }
   ],
   "source": [
    "students = [\"zhangsan\", \"lisi\", \"wangwu\"]\n",
    "print(students[0])\n",
    "print(students[1])\n",
    "print(students[2])"
   ]
  },
  {
   "cell_type": "code",
   "execution_count": 11,
   "metadata": {},
   "outputs": [
    {
     "ename": "IndexError",
     "evalue": "list index out of range",
     "output_type": "error",
     "traceback": [
      "\u001b[0;31m---------------------------------------------------------------------------\u001b[0m",
      "\u001b[0;31mIndexError\u001b[0m                                Traceback (most recent call last)",
      "\u001b[0;32m<ipython-input-11-600656175ff7>\u001b[0m in \u001b[0;36m<module>\u001b[0;34m\u001b[0m\n\u001b[1;32m      1\u001b[0m \u001b[0mstudents\u001b[0m \u001b[0;34m=\u001b[0m \u001b[0;34m[\u001b[0m\u001b[0;34m\"zhangsan\"\u001b[0m\u001b[0;34m,\u001b[0m \u001b[0;34m\"lisi\"\u001b[0m\u001b[0;34m,\u001b[0m \u001b[0;34m\"wangwu\"\u001b[0m\u001b[0;34m]\u001b[0m\u001b[0;34m\u001b[0m\u001b[0;34m\u001b[0m\u001b[0m\n\u001b[0;32m----> 2\u001b[0;31m \u001b[0mprint\u001b[0m\u001b[0;34m(\u001b[0m\u001b[0mstudents\u001b[0m\u001b[0;34m[\u001b[0m\u001b[0;36m3\u001b[0m\u001b[0;34m]\u001b[0m\u001b[0;34m)\u001b[0m    \u001b[0;31m#list中只有三个元素，当通过索引3访问list的第四个元素时实际是访问不到的。\u001b[0m\u001b[0;34m\u001b[0m\u001b[0;34m\u001b[0m\u001b[0m\n\u001b[0m",
      "\u001b[0;31mIndexError\u001b[0m: list index out of range"
     ]
    }
   ],
   "source": [
    "students = [\"zhangsan\", \"lisi\", \"wangwu\"]\n",
    "print(students[3])    #list中只有三个元素，当通过索引3访问list的第四个元素时实际是访问不到的。"
   ]
  },
  {
   "cell_type": "code",
   "execution_count": 12,
   "metadata": {},
   "outputs": [
    {
     "name": "stdout",
     "output_type": "stream",
     "text": [
      "wangwu\n"
     ]
    }
   ],
   "source": [
    "students = [\"zhangsan\", \"lisi\", \"wangwu\"]\n",
    "print(students[-1])   #直接使用-1获取最后一个元素"
   ]
  },
  {
   "cell_type": "code",
   "execution_count": 15,
   "metadata": {},
   "outputs": [
    {
     "name": "stdout",
     "output_type": "stream",
     "text": [
      "['lisi', 'wangwu']\n"
     ]
    }
   ],
   "source": [
    "#使用切片的方式获取一部分数据\n",
    "students = [\"zhangsan\", \"lisi\", \"wangwu\", \"chenliu\"]\n",
    "print(students[1:3])    #默认获取索引是1和2的两个元素，注意并不包含下标为3的那个元素\"chenliu\""
   ]
  },
  {
   "cell_type": "code",
   "execution_count": 16,
   "metadata": {},
   "outputs": [
    {
     "name": "stdout",
     "output_type": "stream",
     "text": [
      "['zhangsan', 'lisi', 'wangwu', 'chenliu']\n"
     ]
    }
   ],
   "source": [
    "#通过append向列表添加元素\n",
    "students = [\"zhangsan\", \"lisi\", \"wangwu\"]\n",
    "students.append(\"chenliu\")\n",
    "print(students)    "
   ]
  },
  {
   "cell_type": "code",
   "execution_count": 17,
   "metadata": {},
   "outputs": [
    {
     "name": "stdout",
     "output_type": "stream",
     "text": [
      "['zhangsan', 'lisi', 'wangwu', 'chenliu']\n"
     ]
    }
   ],
   "source": [
    "#通过extend将另一个集合中的元素全部添加到列表中\n",
    "list1 = [\"zhangsan\", \"lisi\"]\n",
    "list2 = [\"wangwu\", \"chenliu\"]\n",
    "list1.extend(list2)\n",
    "print(list1)  "
   ]
  },
  {
   "cell_type": "code",
   "execution_count": 21,
   "metadata": {},
   "outputs": [
    {
     "name": "stdout",
     "output_type": "stream",
     "text": [
      "['zhangsan', 'wangwu', 'lisi']\n"
     ]
    }
   ],
   "source": [
    "#通过insert在指定位置插入新的元素\n",
    "list1 = [\"zhangsan\", \"lisi\"]\n",
    "list1.insert(1, \"wangwu\")   #在index为1的位置插入新的元素\"wangwu\", 其他元素依次向后移动。\n",
    "print(list1)"
   ]
  },
  {
   "cell_type": "code",
   "execution_count": 18,
   "metadata": {},
   "outputs": [
    {
     "name": "stdout",
     "output_type": "stream",
     "text": [
      "['Alice', 'Doug', 'Clair']\n"
     ]
    }
   ],
   "source": [
    "# 修改元素时，我们通过下标找到要修改的元素然后进行操作。\n",
    "list1 = [\"Alice\", \"Bob\", \"Clair\"]    # list1初始有三个元素\n",
    "list1[1] = \"Doug\"  #修改第二个元素为Doug\n",
    "print(list1)"
   ]
  },
  {
   "cell_type": "code",
   "execution_count": 22,
   "metadata": {},
   "outputs": [
    {
     "name": "stdout",
     "output_type": "stream",
     "text": [
      "False\n",
      "True\n"
     ]
    }
   ],
   "source": [
    "#使用in和not in 判断元素是否存在于列表中\n",
    "list1 = [\"Alice\", \"Bob\", \"Clair\"]    \n",
    "print(\"Doug\" in list1)  #不存在，返回False\n",
    "print(\"Doug\" not in list1)  #不存在，返回True"
   ]
  },
  {
   "cell_type": "code",
   "execution_count": 25,
   "metadata": {},
   "outputs": [
    {
     "name": "stdout",
     "output_type": "stream",
     "text": [
      "['Alice', 'Clair']\n"
     ]
    }
   ],
   "source": [
    "#使用del方法删除元素\n",
    "list1 = [\"Alice\", \"Bob\", \"Clair\"]  \n",
    "del list1[1]   #删除了索引为2的元素 Bob\n",
    "print(list1)"
   ]
  },
  {
   "cell_type": "code",
   "execution_count": 26,
   "metadata": {},
   "outputs": [
    {
     "name": "stdout",
     "output_type": "stream",
     "text": [
      "['Alice', 'Bob']\n"
     ]
    }
   ],
   "source": [
    "#pop方法 删除列表中的最后一个元素\n",
    "list1 = [\"Alice\", \"Bob\", \"Clair\"]  \n",
    "list1.pop()\n",
    "print(list1)"
   ]
  },
  {
   "cell_type": "code",
   "execution_count": 27,
   "metadata": {},
   "outputs": [
    {
     "name": "stdout",
     "output_type": "stream",
     "text": [
      "['Bob', 'Clair']\n"
     ]
    }
   ],
   "source": [
    "# remove方法 删除列表中的指定元素\n",
    "list1 = [\"Alice\", \"Bob\", \"Clair\"]  \n",
    "list1.remove(\"Alice\")\n",
    "print(list1)"
   ]
  },
  {
   "cell_type": "code",
   "execution_count": 28,
   "metadata": {},
   "outputs": [
    {
     "name": "stdout",
     "output_type": "stream",
     "text": [
      "[1, 4, 6, 8]\n"
     ]
    }
   ],
   "source": [
    "# 使用sort对list排序\n",
    "list1 = [4, 1, 8, 6]\n",
    "list1.sort()\n",
    "print(list1)"
   ]
  },
  {
   "cell_type": "code",
   "execution_count": 30,
   "metadata": {},
   "outputs": [
    {
     "name": "stdout",
     "output_type": "stream",
     "text": [
      "Alice\n",
      "Bob\n",
      "Clair\n"
     ]
    }
   ],
   "source": [
    "# 使用for循环, 读取并打印nameList中的所有元素\n",
    "nameList = [\"Alice\", \"Bob\", \"Clair\"]  \n",
    "for name in nameList:\n",
    "    print(name)"
   ]
  },
  {
   "cell_type": "code",
   "execution_count": 1,
   "metadata": {},
   "outputs": [],
   "source": [
    "#定义了tuple1包含三个名字，定义时候不能修改tuple中的元素\n",
    "tuple1 = (\"Alice\", \"Bob\", \"Clair\") "
   ]
  },
  {
   "cell_type": "code",
   "execution_count": 4,
   "metadata": {},
   "outputs": [
    {
     "name": "stdout",
     "output_type": "stream",
     "text": [
      "<class 'int'>\n"
     ]
    }
   ],
   "source": [
    "a = (1)            #注意这里的变量a是一个整数变量，而不是tuple\n",
    "print(type(a))"
   ]
  },
  {
   "cell_type": "code",
   "execution_count": 5,
   "metadata": {},
   "outputs": [
    {
     "name": "stdout",
     "output_type": "stream",
     "text": [
      "<class 'tuple'>\n"
     ]
    }
   ],
   "source": [
    "a = (1,)            #加上逗号，这里的变量a的类型就是tuple\n",
    "print(type(a))"
   ]
  },
  {
   "cell_type": "code",
   "execution_count": 8,
   "metadata": {},
   "outputs": [
    {
     "name": "stdout",
     "output_type": "stream",
     "text": [
      "90\n"
     ]
    }
   ],
   "source": [
    "names  = [\"Alice\", \"Bob\", \"Clair\"]\n",
    "scores = [80, 90, 100]\n",
    "idx = names.index(\"Bob\")  #获取对象”Bob“在list中的索引， idx赋值为1\n",
    "print(scores[idx])        #得到”Bob“的索引后，再根据索引查看Bob的考试分数为90 "
   ]
  },
  {
   "cell_type": "code",
   "execution_count": 10,
   "metadata": {},
   "outputs": [
    {
     "name": "stdout",
     "output_type": "stream",
     "text": [
      "90\n"
     ]
    }
   ],
   "source": [
    "dict1 = {\"Alice\":80, \"Bob\":90, \"Clair\":100}\n",
    "print(dict1[\"Bob\"])    #直接根据名字返回对应的分数"
   ]
  },
  {
   "cell_type": "code",
   "execution_count": 12,
   "metadata": {},
   "outputs": [
    {
     "name": "stdout",
     "output_type": "stream",
     "text": [
      "110\n"
     ]
    }
   ],
   "source": [
    "dict1 = {\"Alice\":80, \"Bob\":90, \"Clair\":100}\n",
    "dict1[\"Bob\"] = 110\n",
    "print(dict1[\"Bob\"])    #此时Bob的值value更新为110"
   ]
  },
  {
   "cell_type": "code",
   "execution_count": 13,
   "metadata": {},
   "outputs": [
    {
     "ename": "KeyError",
     "evalue": "'Dean'",
     "output_type": "error",
     "traceback": [
      "\u001b[0;31m---------------------------------------------------------------------------\u001b[0m",
      "\u001b[0;31mKeyError\u001b[0m                                  Traceback (most recent call last)",
      "\u001b[0;32m<ipython-input-13-a35d49d7778c>\u001b[0m in \u001b[0;36m<module>\u001b[0;34m\u001b[0m\n\u001b[1;32m      1\u001b[0m \u001b[0mdict1\u001b[0m \u001b[0;34m=\u001b[0m \u001b[0;34m{\u001b[0m\u001b[0;34m\"Alice\"\u001b[0m\u001b[0;34m:\u001b[0m\u001b[0;36m80\u001b[0m\u001b[0;34m,\u001b[0m \u001b[0;34m\"Bob\"\u001b[0m\u001b[0;34m:\u001b[0m\u001b[0;36m90\u001b[0m\u001b[0;34m,\u001b[0m \u001b[0;34m\"Clair\"\u001b[0m\u001b[0;34m:\u001b[0m\u001b[0;36m100\u001b[0m\u001b[0;34m}\u001b[0m\u001b[0;34m\u001b[0m\u001b[0;34m\u001b[0m\u001b[0m\n\u001b[0;32m----> 2\u001b[0;31m \u001b[0mdict1\u001b[0m\u001b[0;34m[\u001b[0m\u001b[0;34m\"Dean\"\u001b[0m\u001b[0;34m]\u001b[0m      \u001b[0;31m#dict1中没有元素的key是Dean，程序会报错\u001b[0m\u001b[0;34m\u001b[0m\u001b[0;34m\u001b[0m\u001b[0m\n\u001b[0m",
      "\u001b[0;31mKeyError\u001b[0m: 'Dean'"
     ]
    }
   ],
   "source": [
    "dict1 = {\"Alice\":80, \"Bob\":90, \"Clair\":100}\n",
    "dict1[\"Dean\"]      #dict1中没有元素的key是Dean，程序会报错"
   ]
  },
  {
   "cell_type": "code",
   "execution_count": 15,
   "metadata": {
    "scrolled": true
   },
   "outputs": [
    {
     "name": "stdout",
     "output_type": "stream",
     "text": [
      "Alice age has changed : 27\n"
     ]
    }
   ],
   "source": [
    "information = {'name':\"Alice\", \"age\":28, \"gender\":\"Female\"}\n",
    "information[\"age\"] = 27     #将dict集合中key为age的元素的value改成27\n",
    "print(\"Alice age has changed : %d\" % information[\"age\"])"
   ]
  },
  {
   "cell_type": "code",
   "execution_count": 16,
   "metadata": {},
   "outputs": [
    {
     "name": "stdout",
     "output_type": "stream",
     "text": [
      "User's id is 001\n"
     ]
    }
   ],
   "source": [
    "information = {'name':\"Alice\", \"age\":28, \"gender\":\"Female\"}\n",
    "information[\"id\"] = \"001\"    #新添加一个新的元素（“id”,\"001\"）\n",
    "print(\"User's id is %s\" % information[\"id\"])"
   ]
  },
  {
   "cell_type": "code",
   "execution_count": 19,
   "metadata": {},
   "outputs": [
    {
     "name": "stdout",
     "output_type": "stream",
     "text": [
      "{'name': 'Alice', 'age': 28}\n"
     ]
    }
   ],
   "source": [
    "information = {'name':\"Alice\", \"age\":28, \"gender\":\"Female\"}\n",
    "del information[\"gender\"]   #集合里的元素 \"gender\":\"Female\"   被删除\n",
    "print(information)"
   ]
  },
  {
   "cell_type": "code",
   "execution_count": 21,
   "metadata": {},
   "outputs": [
    {
     "name": "stdout",
     "output_type": "stream",
     "text": [
      "删除前的字典： {'name': 'Alice', 'age': 28, 'gender': 'Female'}\n"
     ]
    },
    {
     "ename": "NameError",
     "evalue": "name 'information' is not defined",
     "output_type": "error",
     "traceback": [
      "\u001b[0;31m---------------------------------------------------------------------------\u001b[0m",
      "\u001b[0;31mNameError\u001b[0m                                 Traceback (most recent call last)",
      "\u001b[0;32m<ipython-input-21-4b6d3c16b80e>\u001b[0m in \u001b[0;36m<module>\u001b[0;34m\u001b[0m\n\u001b[1;32m      2\u001b[0m \u001b[0mprint\u001b[0m\u001b[0;34m(\u001b[0m\u001b[0;34m\"删除前的字典： %s\"\u001b[0m \u001b[0;34m%\u001b[0m \u001b[0minformation\u001b[0m\u001b[0;34m)\u001b[0m\u001b[0;34m\u001b[0m\u001b[0;34m\u001b[0m\u001b[0m\n\u001b[1;32m      3\u001b[0m \u001b[0;32mdel\u001b[0m \u001b[0minformation\u001b[0m  \u001b[0;31m#整个字典被删除\u001b[0m\u001b[0;34m\u001b[0m\u001b[0;34m\u001b[0m\u001b[0m\n\u001b[0;32m----> 4\u001b[0;31m \u001b[0mprint\u001b[0m\u001b[0;34m(\u001b[0m\u001b[0;34m\"删除后的字典： %s\"\u001b[0m \u001b[0;34m%\u001b[0m \u001b[0minformation\u001b[0m\u001b[0;34m)\u001b[0m   \u001b[0;31m#因为字典information已经被删除，这行代码因为找不到information而报错\u001b[0m\u001b[0;34m\u001b[0m\u001b[0;34m\u001b[0m\u001b[0m\n\u001b[0m",
      "\u001b[0;31mNameError\u001b[0m: name 'information' is not defined"
     ]
    }
   ],
   "source": [
    "information = {'name':\"Alice\", \"age\":28, \"gender\":\"Female\"}\n",
    "print(\"删除前的字典： %s\" % information)\n",
    "del information  #整个字典被删除\n",
    "print(\"删除后的字典： %s\" % information)   #因为字典information已经被删除，这行代码因为找不到information而报错"
   ]
  },
  {
   "cell_type": "code",
   "execution_count": 22,
   "metadata": {},
   "outputs": [
    {
     "name": "stdout",
     "output_type": "stream",
     "text": [
      "clear前的字典： {'name': 'Alice', 'age': 28, 'gender': 'Female'}\n",
      "clear后的字典： {}\n"
     ]
    }
   ],
   "source": [
    "information = {'name':\"Alice\", \"age\":28, \"gender\":\"Female\"}\n",
    "print(\"clear前的字典： %s\" % information)\n",
    "information.clear()\n",
    "print(\"clear后的字典： %s\" % information)"
   ]
  },
  {
   "cell_type": "code",
   "execution_count": 24,
   "metadata": {},
   "outputs": [
    {
     "name": "stdout",
     "output_type": "stream",
     "text": [
      "3\n"
     ]
    }
   ],
   "source": [
    "information = {'name':\"Alice\", \"age\":28, \"gender\":\"Female\"}\n",
    "print(len(information))  #字典中有三个键值对"
   ]
  },
  {
   "cell_type": "code",
   "execution_count": 26,
   "metadata": {},
   "outputs": [
    {
     "name": "stdout",
     "output_type": "stream",
     "text": [
      "['name', 'age', 'gender']\n"
     ]
    }
   ],
   "source": [
    "information = {'name':\"Alice\", \"age\":28, \"gender\":\"Female\"}\n",
    "print(list(information.keys()))    #把所有key转换成一个list对象并在控制台打印出来"
   ]
  },
  {
   "cell_type": "code",
   "execution_count": 27,
   "metadata": {},
   "outputs": [
    {
     "name": "stdout",
     "output_type": "stream",
     "text": [
      "['Alice', 28, 'Female']\n"
     ]
    }
   ],
   "source": [
    "information = {'name':\"Alice\", \"age\":28, \"gender\":\"Female\"}\n",
    "print(list(information.values()))    #把所有value转换成一个list对象并在控制台打印出来"
   ]
  },
  {
   "cell_type": "code",
   "execution_count": 28,
   "metadata": {},
   "outputs": [
    {
     "name": "stdout",
     "output_type": "stream",
     "text": [
      "[('name', 'Alice'), ('age', 28), ('gender', 'Female')]\n"
     ]
    }
   ],
   "source": [
    "information = {'name':\"Alice\", \"age\":28, \"gender\":\"Female\"}\n",
    "print(list(information.items()))    #把所有元素整体转换成一个list对象并在控制台打印出来"
   ]
  },
  {
   "cell_type": "code",
   "execution_count": 29,
   "metadata": {},
   "outputs": [
    {
     "ename": "TypeError",
     "evalue": "'set' object does not support indexing",
     "output_type": "error",
     "traceback": [
      "\u001b[0;31m---------------------------------------------------------------------------\u001b[0m",
      "\u001b[0;31mTypeError\u001b[0m                                 Traceback (most recent call last)",
      "\u001b[0;32m<ipython-input-29-7a4352d217b2>\u001b[0m in \u001b[0;36m<module>\u001b[0;34m\u001b[0m\n\u001b[1;32m      1\u001b[0m \u001b[0mmy_set\u001b[0m \u001b[0;34m=\u001b[0m \u001b[0;34m{\u001b[0m\u001b[0;36m2\u001b[0m\u001b[0;34m,\u001b[0m \u001b[0;36m8\u001b[0m\u001b[0;34m,\u001b[0m \u001b[0;34m\"hello\"\u001b[0m\u001b[0;34m,\u001b[0m \u001b[0;34m\"CGFT\"\u001b[0m\u001b[0;34m}\u001b[0m\u001b[0;34m\u001b[0m\u001b[0;34m\u001b[0m\u001b[0m\n\u001b[0;32m----> 2\u001b[0;31m \u001b[0mprint\u001b[0m\u001b[0;34m(\u001b[0m\u001b[0mmy_set\u001b[0m\u001b[0;34m[\u001b[0m\u001b[0;36m1\u001b[0m\u001b[0;34m]\u001b[0m\u001b[0;34m)\u001b[0m  \u001b[0;31m#报错，set集合不支持用下标索引得到指定元素\u001b[0m\u001b[0;34m\u001b[0m\u001b[0;34m\u001b[0m\u001b[0m\n\u001b[0m",
      "\u001b[0;31mTypeError\u001b[0m: 'set' object does not support indexing"
     ]
    }
   ],
   "source": [
    "my_set = {2, 8, \"hello\", \"CGFT\"}\n",
    "print(my_set[1])  #报错，set集合不支持用下标索引得到指定元素"
   ]
  },
  {
   "cell_type": "code",
   "execution_count": 30,
   "metadata": {},
   "outputs": [
    {
     "name": "stdout",
     "output_type": "stream",
     "text": [
      "8\n",
      "2\n",
      "hello\n",
      "CGFT\n"
     ]
    }
   ],
   "source": [
    "my_set = {2, 8, \"hello\", \"CGFT\"}\n",
    "for item in my_set:\n",
    "    print(item)"
   ]
  },
  {
   "cell_type": "code",
   "execution_count": 31,
   "metadata": {},
   "outputs": [
    {
     "name": "stdout",
     "output_type": "stream",
     "text": [
      "{1, 2, 3, 8, 10}\n"
     ]
    }
   ],
   "source": [
    "list1 = [1,2,3,2,8,10,1]\n",
    "set1 = set(list1)\n",
    "print(set1)    #set集合自动去重 "
   ]
  },
  {
   "cell_type": "code",
   "execution_count": 32,
   "metadata": {},
   "outputs": [
    {
     "name": "stdout",
     "output_type": "stream",
     "text": [
      "{1, 2, 3, 8, 10}\n"
     ]
    }
   ],
   "source": [
    "tuple1 = (1,2,3,2,8,10,1)\n",
    "set1 = set(tuple1)\n",
    "print(set1)     #tuple也可以转化为set并去重"
   ]
  },
  {
   "cell_type": "code",
   "execution_count": 7,
   "metadata": {},
   "outputs": [
    {
     "name": "stdout",
     "output_type": "stream",
     "text": [
      "4529403952\n",
      "4529403952\n",
      "4529403984\n"
     ]
    }
   ],
   "source": [
    "#不可变对象\n",
    "x = 1\n",
    "y = 1\n",
    "print(id(x))\n",
    "print(id(y))\n",
    "y = 2\n",
    "print(id(y))"
   ]
  },
  {
   "cell_type": "code",
   "execution_count": 10,
   "metadata": {},
   "outputs": [
    {
     "name": "stdout",
     "output_type": "stream",
     "text": [
      "140717498834312\n",
      "140717498834632\n"
     ]
    }
   ],
   "source": [
    "# 可变对象 内存中实际创建了2个list对象，变量a两次引用的对象不同\n",
    "a = [\"Anthony\", \"Bob\", \"Clair\"]\n",
    "print(id(a))\n",
    "a = [\"Anthony\", \"Bob\", \"Clair\"]\n",
    "print(id(a))"
   ]
  },
  {
   "cell_type": "code",
   "execution_count": 15,
   "metadata": {},
   "outputs": [],
   "source": [
    "# 深拷贝与浅拷贝\n",
    "# 首先定义类Person 并生成一个对象赋值给变量a\n",
    "class Person:\n",
    "    def __init__(self, name, scores):\n",
    "        self.name = name\n",
    "        self.scores = scores\n",
    "    def set_name(self, name):\n",
    "        self.name = name\n",
    "    def get_name(self):\n",
    "        return self.name\n",
    "    def set_scores(self, scores):\n",
    "        self.scores = scores\n",
    "    def get_scores(self):\n",
    "        return self.scores\n",
    "\n",
    "a = Person(\"Anthony\",[1,2,3,4,5])"
   ]
  },
  {
   "cell_type": "code",
   "execution_count": 12,
   "metadata": {},
   "outputs": [],
   "source": [
    "import copy\n",
    "b = copy.copy(a)\n",
    "c = copy.deepcopy(a)"
   ]
  },
  {
   "cell_type": "code",
   "execution_count": 16,
   "metadata": {},
   "outputs": [
    {
     "name": "stdout",
     "output_type": "stream",
     "text": [
      "140717498901896\n",
      "140717498901816\n",
      "140716955564360\n",
      "--------\n",
      "140717499032016\n",
      "140717498901816\n",
      "140716955563016\n",
      "--------\n",
      "140717499033304\n",
      "140717498901816\n",
      "140716955473992\n"
     ]
    }
   ],
   "source": [
    "print(id(a))\n",
    "print(id(a.get_name()))\n",
    "print(id(a.get_scores()))\n",
    "print(\"--------\")\n",
    "print(id(b))\n",
    "print(id(b.get_name()))\n",
    "print(id(b.get_scores()))  # 浅拷贝的可变属性scores，引用的与变量a中的list相同\n",
    "print(\"--------\")\n",
    "print(id(c))\n",
    "print(id(c.get_name()))\n",
    "print(id(c.get_scores()))  # 深拷贝的可变属性scores，在内存中新建list对象"
   ]
  },
  {
   "cell_type": "code",
   "execution_count": 17,
   "metadata": {},
   "outputs": [
    {
     "name": "stdout",
     "output_type": "stream",
     "text": [
      "[7, 2, 3, 4, 5]\n",
      "[7, 2, 3, 4, 5]\n",
      "[1, 2, 3, 4, 5]\n"
     ]
    }
   ],
   "source": [
    "# 改变a的scores属性， b的scores随之改变\n",
    "# 但deepcopy的对象c则不会随之改变\n",
    "a.get_scores()[0] = 7\n",
    "print(a.get_scores())\n",
    "print(b.get_scores())\n",
    "print(c.get_scores())"
   ]
  },
  {
   "cell_type": "code",
   "execution_count": null,
   "metadata": {},
   "outputs": [],
   "source": []
  }
 ],
 "metadata": {
  "kernelspec": {
   "display_name": "Python 3",
   "language": "python",
   "name": "python3"
  },
  "language_info": {
   "codemirror_mode": {
    "name": "ipython",
    "version": 3
   },
   "file_extension": ".py",
   "mimetype": "text/x-python",
   "name": "python",
   "nbconvert_exporter": "python",
   "pygments_lexer": "ipython3",
   "version": "3.6.8"
  }
 },
 "nbformat": 4,
 "nbformat_minor": 2
}

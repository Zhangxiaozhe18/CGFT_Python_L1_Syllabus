{
 "cells": [
  {
   "cell_type": "code",
   "execution_count": 2,
   "metadata": {},
   "outputs": [
    {
     "name": "stdout",
     "output_type": "stream",
     "text": [
      "文件名: /Users/i328815/Documents/CGFT.txt\n",
      "是否已关闭 : False\n",
      "访问模式 : w\n"
     ]
    }
   ],
   "source": [
    "fo = open(\"/Users/i328815/Documents/CGFT.txt\", \"w\")\n",
    "\n",
    "print(\"是否已关闭 : %s\" % fo.closed)  \n",
    "print(\"访问模式 : %s\" % fo.mode) "
   ]
  },
  {
   "cell_type": "code",
   "execution_count": 5,
   "metadata": {},
   "outputs": [
    {
     "name": "stdout",
     "output_type": "stream",
     "text": [
      "文件名: /Users/i328815/Documents/CGFT.txt\n"
     ]
    }
   ],
   "source": [
    "# 打开一个文件\n",
    "fo = open(\"/Users/i328815/Documents/CGFT.txt\", \"w\")\n",
    "print(\"文件名: %s\" % fo.name)\n",
    " \n",
    "# 操作文件后，关闭打开的文件\n",
    "fo.close()"
   ]
  },
  {
   "cell_type": "code",
   "execution_count": 11,
   "metadata": {},
   "outputs": [],
   "source": [
    "# 打开一个文件\n",
    "fo = open(\"/Users/i328815/Documents/CGFT.txt\", \"w\")\n",
    "fo.write( \"hello CGFT\\n\") #\\n表示换行的意思，是说将字符串写进文件后另起一行\n",
    " \n",
    "# 关闭打开的文件\n",
    "fo.close()"
   ]
  },
  {
   "cell_type": "code",
   "execution_count": 12,
   "metadata": {},
   "outputs": [
    {
     "name": "stdout",
     "output_type": "stream",
     "text": [
      "读取的字符串是 : hello CGFT\n",
      "\n"
     ]
    }
   ],
   "source": [
    "# 打开一个文件\n",
    "fo = open(\"/Users/i328815/Documents/CGFT.txt\", \"r\")\n",
    "content = fo.read()\n",
    "print(\"读取的字符串是 : %s\" % content)\n",
    "# 关闭打开的文件\n",
    "fo.close()"
   ]
  },
  {
   "cell_type": "code",
   "execution_count": 15,
   "metadata": {},
   "outputs": [
    {
     "data": {
      "text/plain": [
       "'posix'"
      ]
     },
     "execution_count": 15,
     "metadata": {},
     "output_type": "execute_result"
    }
   ],
   "source": [
    "import os\n",
    "os.name # 操作系统类型"
   ]
  },
  {
   "cell_type": "code",
   "execution_count": 18,
   "metadata": {},
   "outputs": [
    {
     "data": {
      "text/plain": [
       "'/usr/local/bin:/Users/i328815/Desktop:/Users/i328815:/Library/Frameworks/Python.framework/Versions/3.6/bin:/Library/Frameworks/Python.framework/Versions/3.6/lib/python3.6/site-packages:/usr/local/mysql/support-files:/usr/local/mysql/bin:/Users/i328815/.gradle/wrapper/dists/gradle-6.4.1-bin/5xsco32cax9tdklnl6j88oyic/gradle-6.4.1/bin:/Users/i328815/bin/apache-maven-3.3.3/bin:/Users/i328815/bin/apache-ant-1.8.4/bin:/Users/i328815/bin/hadoop-2.7.2/sbin:/Users/i328815/bin/hadoop-2.7.2/bin:/Users/i328815/bin/sapjvm_8/bin:/usr/local/bin:/usr/bin:/bin:/usr/sbin:/sbin:/Applications/VMware Fusion.app/Contents/Public:/Applications/Privileges.app/Contents/Resources'"
      ]
     },
     "execution_count": 18,
     "metadata": {},
     "output_type": "execute_result"
    }
   ],
   "source": [
    "os.environ.get(\"PATH\") #查看环境变量 PATH"
   ]
  },
  {
   "cell_type": "code",
   "execution_count": null,
   "metadata": {},
   "outputs": [],
   "source": [
    "# 查看当前目录的绝对路径:\n",
    "print(os.path.abspath('.'))"
   ]
  },
  {
   "cell_type": "code",
   "execution_count": 20,
   "metadata": {},
   "outputs": [],
   "source": [
    "# 在某个目录下创建一个新目录testdir，首先把新目录的完整路径表示出来:\n",
    "dir_path = os.path.join('/Users/i328815/Documents', 'testdir')\n",
    "\n",
    "# 然后创建一个目录 /Users/i328815/Documents/testdir'\n",
    "os.mkdir(dir_path)"
   ]
  },
  {
   "cell_type": "code",
   "execution_count": 21,
   "metadata": {},
   "outputs": [],
   "source": [
    "# 删掉一个目录:\n",
    "os.rmdir('/Users/i328815/Documents/CGFT.txt')"
   ]
  },
  {
   "cell_type": "code",
   "execution_count": 23,
   "metadata": {},
   "outputs": [
    {
     "data": {
      "text/plain": [
       "('/Users/michael/testdir', 'CGFT.txt')"
      ]
     },
     "execution_count": 23,
     "metadata": {},
     "output_type": "execute_result"
    }
   ],
   "source": [
    "os.path.split('/Users/michael/testdir/CGFT.txt')"
   ]
  },
  {
   "cell_type": "code",
   "execution_count": null,
   "metadata": {},
   "outputs": [],
   "source": [
    "# 对文件重命名:\n",
    "os.rename('CGFT.txt', 'CGFT.py')\n",
    "# 删掉文件:\n",
    "os.remove('CGFT.py')"
   ]
  },
  {
   "cell_type": "code",
   "execution_count": 26,
   "metadata": {},
   "outputs": [],
   "source": [
    "import pickle\n",
    "# 序列化\n",
    "with open('/Users/i328815/Documents/CGFT.txt', 'wb') as f:\n",
    "    dic = {'age': 23, 'job': 'student'}\n",
    "    pickle.dump(dic, f)"
   ]
  },
  {
   "cell_type": "code",
   "execution_count": 27,
   "metadata": {},
   "outputs": [
    {
     "name": "stdout",
     "output_type": "stream",
     "text": [
      "{'age': 23, 'job': 'student'}\n",
      "<class 'dict'>\n"
     ]
    }
   ],
   "source": [
    "# 反序列化\n",
    "with open('/Users/i328815/Documents/CGFT.txt', 'rb') as f:\n",
    "    dic = pickle.load(f)\n",
    "    print(dic)\n",
    "    print(type(dic)) "
   ]
  },
  {
   "cell_type": "code",
   "execution_count": 29,
   "metadata": {},
   "outputs": [
    {
     "name": "stdout",
     "output_type": "stream",
     "text": [
      "<class 'str'> {\"age\": 23, \"job\": \"student\"}\n",
      "<class 'dict'> {'age': 23, 'job': 'student'}\n"
     ]
    }
   ],
   "source": [
    "import json\n",
    "\n",
    "dic = {'age': 23, 'job': 'student'}\n",
    "dic_str = json.dumps(dic)\n",
    "print(type(dic_str), dic_str)\n",
    " \n",
    "dic_obj = json.loads(dic_str)\n",
    "print(type(dic_obj), dic_obj)"
   ]
  },
  {
   "cell_type": "code",
   "execution_count": 30,
   "metadata": {},
   "outputs": [],
   "source": [
    "class Student(object):\n",
    "    def __init__(self, name, age, score):\n",
    "        self.name = name\n",
    "        self.age = age\n",
    "        self.score = score\n",
    "    def student2dict(std):\n",
    "        return {\n",
    "            'name': std.name,\n",
    "            'age': std.age,\n",
    "            'score': std.score\n",
    "        }"
   ]
  },
  {
   "cell_type": "code",
   "execution_count": 32,
   "metadata": {},
   "outputs": [
    {
     "name": "stdout",
     "output_type": "stream",
     "text": [
      "{\"name\": \"Anthony\", \"age\": 31, \"score\": 100}\n"
     ]
    }
   ],
   "source": [
    "s = Student(\"Anthony\", 31, 100)\n",
    "print(json.dumps(s, default=Student.student2dict))"
   ]
  },
  {
   "cell_type": "code",
   "execution_count": 34,
   "metadata": {},
   "outputs": [
    {
     "name": "stdout",
     "output_type": "stream",
     "text": [
      "<__main__.Student object at 0x7ff420b6cc18>\n"
     ]
    }
   ],
   "source": [
    "# 将json格式字符串反序列化为Student 对象\n",
    "def dict2student(d):\n",
    "    return Student(d['name'], d['age'], d['score'])\n",
    "\n",
    "json_str = '{\"age\": 20, \"score\": 88, \"name\": \"Bob\"}'\n",
    "print(json.loads(json_str, object_hook=dict2student))"
   ]
  },
  {
   "cell_type": "code",
   "execution_count": null,
   "metadata": {},
   "outputs": [],
   "source": []
  }
 ],
 "metadata": {
  "kernelspec": {
   "display_name": "Python 3",
   "language": "python",
   "name": "python3"
  },
  "language_info": {
   "codemirror_mode": {
    "name": "ipython",
    "version": 3
   },
   "file_extension": ".py",
   "mimetype": "text/x-python",
   "name": "python",
   "nbconvert_exporter": "python",
   "pygments_lexer": "ipython3",
   "version": "3.6.8"
  }
 },
 "nbformat": 4,
 "nbformat_minor": 2
}

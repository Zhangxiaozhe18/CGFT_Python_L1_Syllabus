{
 "cells": [
  {
   "cell_type": "code",
   "execution_count": 2,
   "metadata": {},
   "outputs": [
    {
     "name": "stdout",
     "output_type": "stream",
     "text": [
      "Python\n",
      "Accounting\n",
      "Finance\n",
      "MachineLearning\n"
     ]
    }
   ],
   "source": [
    "# for语句可以遍历字典集合的所有key\n",
    "cgft_courses = {\"Python\":1, \"Accounting\":2, \"Finance\":3, \"MachineLearning\":4}\n",
    "for course in cgft_courses:\n",
    "    print(course)"
   ]
  },
  {
   "cell_type": "code",
   "execution_count": 4,
   "metadata": {},
   "outputs": [
    {
     "name": "stdout",
     "output_type": "stream",
     "text": [
      "1\n",
      "2\n",
      "3\n",
      "4\n"
     ]
    }
   ],
   "source": [
    "# for语句可以遍历字典value\n",
    "cgft_courses = {\"Python\":1, \"Accounting\":2, \"Finance\":3, \"MachineLearning\":4}\n",
    "for course in cgft_courses.values():\n",
    "    print(course)"
   ]
  },
  {
   "cell_type": "code",
   "execution_count": 7,
   "metadata": {},
   "outputs": [
    {
     "name": "stdout",
     "output_type": "stream",
     "text": [
      "course Python, index is 1\n",
      "course Accounting, index is 2\n",
      "course Finance, index is 3\n",
      "course MachineLearning, index is 4\n"
     ]
    }
   ],
   "source": [
    "# for语句同时遍历字典元素的key和value\n",
    "cgft_courses = {\"Python\":1, \"Accounting\":2, \"Finance\":3, \"MachineLearning\":4}\n",
    "for k,v in cgft_courses.items():\n",
    "    print(\"course %s, index is %s\" % (k,v))"
   ]
  },
  {
   "cell_type": "code",
   "execution_count": 9,
   "metadata": {},
   "outputs": [
    {
     "name": "stdout",
     "output_type": "stream",
     "text": [
      "C\n",
      "G\n",
      "F\n",
      "T\n"
     ]
    }
   ],
   "source": [
    "# for遍历字符串\n",
    "for i in \"CGFT\":\n",
    "    print(i)"
   ]
  },
  {
   "cell_type": "code",
   "execution_count": 10,
   "metadata": {},
   "outputs": [
    {
     "name": "stdout",
     "output_type": "stream",
     "text": [
      "True\n",
      "True\n",
      "False\n"
     ]
    }
   ],
   "source": [
    "from collections import Iterable\n",
    "print(isinstance('CGFT', Iterable))  # 字符串可迭代\n",
    "print(isinstance([1,2,3], Iterable)) # list可以迭代\n",
    "print(isinstance(123, Iterable))     # 整数不能迭代"
   ]
  },
  {
   "cell_type": "code",
   "execution_count": 12,
   "metadata": {},
   "outputs": [
    {
     "name": "stdout",
     "output_type": "stream",
     "text": [
      "course Python, index is 0\n",
      "course Accounting, index is 1\n",
      "course Finance, index is 2\n"
     ]
    }
   ],
   "source": [
    "#  通过enumerate()添加元素索引\n",
    "courses = [\"Python\", \"Accounting\", \"Finance\"]\n",
    "for i,v in enumerate(courses):\n",
    "    print(\"course %s, index is %s\" % (v,i))"
   ]
  },
  {
   "cell_type": "code",
   "execution_count": 15,
   "metadata": {},
   "outputs": [
    {
     "name": "stdout",
     "output_type": "stream",
     "text": [
      "[1, 2, 3, 4, 5, 6, 7, 8, 9, 10]\n"
     ]
    }
   ],
   "source": [
    "i = range(1,11)\n",
    "print(list(i)) #生成1-10，转化成list集合后输出到控制台"
   ]
  },
  {
   "cell_type": "code",
   "execution_count": 16,
   "metadata": {},
   "outputs": [
    {
     "name": "stdout",
     "output_type": "stream",
     "text": [
      "[1, 4, 9, 16, 25, 36, 49, 64, 81, 100]\n"
     ]
    }
   ],
   "source": [
    "list1 = [x*x for x in range(1,11)]\n",
    "print(list1)"
   ]
  },
  {
   "cell_type": "code",
   "execution_count": 17,
   "metadata": {},
   "outputs": [
    {
     "name": "stdout",
     "output_type": "stream",
     "text": [
      "[4, 16, 36, 64, 100]\n"
     ]
    }
   ],
   "source": [
    "list2 = [x*x for x in range(1,11) if (x%2 == 0)]\n",
    "print(list2)"
   ]
  },
  {
   "cell_type": "code",
   "execution_count": 20,
   "metadata": {},
   "outputs": [
    {
     "name": "stdout",
     "output_type": "stream",
     "text": [
      "['Python=1', 'Accounting=2', 'Finance=3', 'MachineLearning=4']\n"
     ]
    }
   ],
   "source": [
    "cgft_courses = {\"Python\":\"1\", \"Accounting\":\"2\", \"Finance\":\"3\", \"MachineLearning\":\"4\"}\n",
    "list3 = [i + '=' + v for i,v in cgft_courses.items() ]\n",
    "print(list3)  #新生成4个元素，每个元素类似”课程名=索引“"
   ]
  },
  {
   "cell_type": "code",
   "execution_count": 1,
   "metadata": {},
   "outputs": [
    {
     "name": "stdout",
     "output_type": "stream",
     "text": [
      "['python', 'accounting', 'finance']\n"
     ]
    }
   ],
   "source": [
    "courses = [\"Python\", \"AccoUnting\", \"FiNAnce\"]\n",
    "list4 = [x.lower() for x in courses]\n",
    "print(list4)"
   ]
  },
  {
   "cell_type": "code",
   "execution_count": 3,
   "metadata": {},
   "outputs": [
    {
     "name": "stdout",
     "output_type": "stream",
     "text": [
      "<generator object <genexpr> at 0x7fa28047e150>\n"
     ]
    }
   ],
   "source": [
    "# 变量g1的类型是generator\n",
    "g1 = (x * x for x in range(10))\n",
    "print(g1)"
   ]
  },
  {
   "cell_type": "code",
   "execution_count": 9,
   "metadata": {},
   "outputs": [
    {
     "name": "stdout",
     "output_type": "stream",
     "text": [
      "0\n",
      "1\n",
      "2\n"
     ]
    }
   ],
   "source": [
    "g1 = (x for x in range(10))\n",
    "#  g1里面的元素有： (0,1,2,3,4,5,6,7,8,9)\n",
    "#  每次调用next() 就返回生成器的一个元素\n",
    "print(next(g1))\n",
    "print(next(g1))\n",
    "print(next(g1))"
   ]
  },
  {
   "cell_type": "code",
   "execution_count": 11,
   "metadata": {},
   "outputs": [
    {
     "name": "stdout",
     "output_type": "stream",
     "text": [
      "0\n",
      "2\n",
      "4\n",
      "6\n",
      "8\n",
      "10\n",
      "12\n",
      "14\n",
      "16\n",
      "18\n"
     ]
    }
   ],
   "source": [
    "# 通常使用for循环遍历集合\n",
    "g1 = (x*2 for x in range(10))\n",
    "for i in g1:\n",
    "    print(i)"
   ]
  },
  {
   "cell_type": "code",
   "execution_count": 14,
   "metadata": {},
   "outputs": [],
   "source": [
    "def odds():\n",
    "    print('step 1')\n",
    "    yield 1\n",
    "    print('step 2')\n",
    "    yield(3)\n",
    "    print('step 3')\n",
    "    yield(5)"
   ]
  },
  {
   "cell_type": "code",
   "execution_count": 16,
   "metadata": {},
   "outputs": [
    {
     "name": "stdout",
     "output_type": "stream",
     "text": [
      "g2的类型是: <generator object odds at 0x7fa28044d360>\n",
      "step 1\n",
      "1\n",
      "step 2\n",
      "3\n",
      "step 3\n",
      "5\n"
     ]
    }
   ],
   "source": [
    "g2 = odds()\n",
    "print(\"g2的类型是: %s\" % g2)\n",
    "for x in g2:\n",
    "    print(x)"
   ]
  },
  {
   "cell_type": "code",
   "execution_count": 18,
   "metadata": {},
   "outputs": [
    {
     "name": "stdout",
     "output_type": "stream",
     "text": [
      "step 1\n",
      "1\n",
      "step 2\n",
      "3\n",
      "step 3\n",
      "5\n"
     ]
    },
    {
     "ename": "StopIteration",
     "evalue": "",
     "output_type": "error",
     "traceback": [
      "\u001b[0;31m---------------------------------------------------------------------------\u001b[0m",
      "\u001b[0;31mStopIteration\u001b[0m                             Traceback (most recent call last)",
      "\u001b[0;32m<ipython-input-18-045aaee1a7b2>\u001b[0m in \u001b[0;36m<module>\u001b[0;34m\u001b[0m\n\u001b[1;32m      4\u001b[0m \u001b[0mprint\u001b[0m\u001b[0;34m(\u001b[0m\u001b[0mnext\u001b[0m\u001b[0;34m(\u001b[0m\u001b[0mg3\u001b[0m\u001b[0;34m)\u001b[0m\u001b[0;34m)\u001b[0m\u001b[0;34m\u001b[0m\u001b[0;34m\u001b[0m\u001b[0m\n\u001b[1;32m      5\u001b[0m \u001b[0mprint\u001b[0m\u001b[0;34m(\u001b[0m\u001b[0mnext\u001b[0m\u001b[0;34m(\u001b[0m\u001b[0mg3\u001b[0m\u001b[0;34m)\u001b[0m\u001b[0;34m)\u001b[0m\u001b[0;34m\u001b[0m\u001b[0;34m\u001b[0m\u001b[0m\n\u001b[0;32m----> 6\u001b[0;31m \u001b[0mprint\u001b[0m\u001b[0;34m(\u001b[0m\u001b[0mnext\u001b[0m\u001b[0;34m(\u001b[0m\u001b[0mg3\u001b[0m\u001b[0;34m)\u001b[0m\u001b[0;34m)\u001b[0m\u001b[0;34m\u001b[0m\u001b[0;34m\u001b[0m\u001b[0m\n\u001b[0m",
      "\u001b[0;31mStopIteration\u001b[0m: "
     ]
    }
   ],
   "source": [
    "# 前三次返回了函数能生成的所有元素，再使用next()访问下一个元素时，会报错\n",
    "g3 = odds()\n",
    "print(next(g3))\n",
    "print(next(g3))\n",
    "print(next(g3))\n",
    "print(next(g3))"
   ]
  },
  {
   "cell_type": "code",
   "execution_count": 21,
   "metadata": {},
   "outputs": [
    {
     "name": "stdout",
     "output_type": "stream",
     "text": [
      "True\n",
      "True\n",
      "True\n",
      "False\n"
     ]
    }
   ],
   "source": [
    "# 可以使用isinstance()判断一个对象是否是Iterable对象：\n",
    "from collections.abc import Iterable\n",
    "\n",
    "list1 = [1,2,3]\n",
    "print(isinstance(list1, Iterable))\n",
    "tuple1 = (1,2,3)\n",
    "print(isinstance(tuple1, Iterable))\n",
    "dict1 = {\"Python\":1, \"Accounting\":2, \"Finance\":3}\n",
    "print(isinstance(dict1, Iterable))\n",
    "print(isinstance(123, Iterable)) #整数不是Iterable"
   ]
  },
  {
   "cell_type": "code",
   "execution_count": 24,
   "metadata": {},
   "outputs": [
    {
     "name": "stdout",
     "output_type": "stream",
     "text": [
      "True\n",
      "True\n",
      "False\n"
     ]
    }
   ],
   "source": [
    "# 可以使用isinstance()判断一个对象是否是Iterator对象：\n",
    "from collections.abc import Iterator\n",
    "print(isinstance((x for x in range(10)), Iterator))    \n",
    "print(isinstance(g3, Iterator)) #函数odd()也是迭代器\n",
    "print(isinstance([1,2,3], Iterator)) #list不是迭代器"
   ]
  },
  {
   "cell_type": "code",
   "execution_count": 25,
   "metadata": {},
   "outputs": [
    {
     "name": "stdout",
     "output_type": "stream",
     "text": [
      "False\n",
      "True\n"
     ]
    }
   ],
   "source": [
    "print(isinstance([1,2,3], Iterator)) #list不是迭代器\n",
    "print(isinstance(iter([1,2,3]) , Iterator)) #iter()将list转换为迭代器"
   ]
  },
  {
   "cell_type": "code",
   "execution_count": null,
   "metadata": {},
   "outputs": [],
   "source": []
  }
 ],
 "metadata": {
  "kernelspec": {
   "display_name": "Python 3",
   "language": "python",
   "name": "python3"
  },
  "language_info": {
   "codemirror_mode": {
    "name": "ipython",
    "version": 3
   },
   "file_extension": ".py",
   "mimetype": "text/x-python",
   "name": "python",
   "nbconvert_exporter": "python",
   "pygments_lexer": "ipython3",
   "version": "3.6.8"
  }
 },
 "nbformat": 4,
 "nbformat_minor": 2
}

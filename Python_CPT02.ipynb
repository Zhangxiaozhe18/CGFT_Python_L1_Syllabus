{
 "cells": [
  {
   "cell_type": "code",
   "execution_count": 2,
   "metadata": {},
   "outputs": [
    {
     "name": "stdout",
     "output_type": "stream",
     "text": [
      "hello\n",
      "Python\n"
     ]
    }
   ],
   "source": [
    "print(\"hello\");\n",
    "print(\"Python\");"
   ]
  },
  {
   "cell_type": "code",
   "execution_count": 3,
   "metadata": {},
   "outputs": [
    {
     "name": "stdout",
     "output_type": "stream",
     "text": [
      "today is hot\n"
     ]
    }
   ],
   "source": [
    "weather_is_hot = 1\n",
    "weather = 0\n",
    "\n",
    "if(weather_is_hot == 1) and \\\n",
    "(weather==0):\n",
    "  print(\"today is hot\");"
   ]
  },
  {
   "cell_type": "code",
   "execution_count": 4,
   "metadata": {},
   "outputs": [
    {
     "name": "stdout",
     "output_type": "stream",
     "text": [
      "today is hot\n"
     ]
    }
   ],
   "source": [
    "weather_is_hot = 1\n",
    "weather = 0\n",
    "\n",
    "if(weather_is_hot == 1) and (weather==0):\n",
    "  print(\"today is hot\");"
   ]
  },
  {
   "cell_type": "code",
   "execution_count": 6,
   "metadata": {},
   "outputs": [],
   "source": [
    " dict = {\n",
    "\n",
    "  'title':'行者',\n",
    "\n",
    "  'name' :'武松',\n",
    "\n",
    "  'num' : 12\n",
    "\n",
    "}"
   ]
  },
  {
   "cell_type": "code",
   "execution_count": 8,
   "metadata": {},
   "outputs": [
    {
     "name": "stdout",
     "output_type": "stream",
     "text": [
      "水浒传第一回：高俅与端王（后来的徽宗）结识。\n",
      "\n",
      "被提拔为殿帅府太尉，对曾打翻他的王升的儿子八十万禁军教头王进施行报复。 \n",
      "\n",
      "王进出走延安府，在史家村给史进教枪棒。 史进因擒少华山陈达而和朱武、杨春相识往来。\n",
      "\n",
      "华阴县中秋夜来史家村捉拿赏月喝酒吃肉的史进并少华山三好汉\n"
     ]
    }
   ],
   "source": [
    " str = '''水浒传第一回：高俅与端王（后来的徽宗）结识。\n",
    "\n",
    " 被提拔为殿帅府太尉，对曾打翻他的王升的儿子八十万禁军教头王进施行报复。 \n",
    "\n",
    " 王进出走延安府，在史家村给史进教枪棒。 史进因擒少华山陈达而和朱武、杨春相识往来。\n",
    "\n",
    " 华阴县中秋夜来史家村捉拿赏月喝酒吃肉的史进并少华山三好汉''';\n",
    "    \n",
    "print(str);"
   ]
  },
  {
   "cell_type": "code",
   "execution_count": 9,
   "metadata": {},
   "outputs": [
    {
     "name": "stdout",
     "output_type": "stream",
     "text": [
      "9.0\n"
     ]
    }
   ],
   "source": [
    "a = 17;\n",
    "\n",
    "if a :\n",
    "    a += 1;\n",
    "    a /= 2;\n",
    "    print(a);  #缩进一致  正确"
   ]
  },
  {
   "cell_type": "code",
   "execution_count": 10,
   "metadata": {},
   "outputs": [
    {
     "ename": "IndentationError",
     "evalue": "unexpected indent (<ipython-input-10-26f5efcb324b>, line 3)",
     "output_type": "error",
     "traceback": [
      "\u001b[0;36m  File \u001b[0;32m\"<ipython-input-10-26f5efcb324b>\"\u001b[0;36m, line \u001b[0;32m3\u001b[0m\n\u001b[0;31m    a /=2;\u001b[0m\n\u001b[0m    ^\u001b[0m\n\u001b[0;31mIndentationError\u001b[0m\u001b[0;31m:\u001b[0m unexpected indent\n"
     ]
    }
   ],
   "source": [
    "if a :\n",
    "  a +=1;\n",
    "    a /=2;\n",
    "  print(a); #缩进不一致  IndentationError 错误"
   ]
  },
  {
   "cell_type": "code",
   "execution_count": 1,
   "metadata": {},
   "outputs": [
    {
     "name": "stdout",
     "output_type": "stream",
     "text": [
      "hello python\n"
     ]
    }
   ],
   "source": [
    "# 这是Python中的一行注释，执行时会忽略此行而仅打印hello python\n",
    "print(\"hello python\")"
   ]
  },
  {
   "cell_type": "code",
   "execution_count": 2,
   "metadata": {},
   "outputs": [
    {
     "name": "stdout",
     "output_type": "stream",
     "text": [
      "hello python\n"
     ]
    }
   ],
   "source": [
    "'''\n",
    "这里\n",
    "注释了多行\n",
    "都不会执行\n",
    "'''\n",
    "print(\"hello python\")"
   ]
  },
  {
   "cell_type": "code",
   "execution_count": 3,
   "metadata": {},
   "outputs": [
    {
     "name": "stdout",
     "output_type": "stream",
     "text": [
      "hello python\n"
     ]
    }
   ],
   "source": [
    "\"\"\"\n",
    "这里\n",
    "注释了多行\n",
    "都不会执行\n",
    "\"\"\"\n",
    "print(\"hello python\")"
   ]
  },
  {
   "cell_type": "code",
   "execution_count": 4,
   "metadata": {},
   "outputs": [],
   "source": [
    "# 下面的命名是合法的：\n",
    "UserID = \"Bob\"\n",
    "name = \"Zhang San\"\n",
    "mode12 = \"12345\"\n",
    "user_age = 30"
   ]
  },
  {
   "cell_type": "code",
   "execution_count": 5,
   "metadata": {
    "scrolled": true
   },
   "outputs": [
    {
     "ename": "SyntaxError",
     "evalue": "invalid syntax (<ipython-input-5-993fff626b5b>, line 2)",
     "output_type": "error",
     "traceback": [
      "\u001b[0;36m  File \u001b[0;32m\"<ipython-input-5-993fff626b5b>\"\u001b[0;36m, line \u001b[0;32m2\u001b[0m\n\u001b[0;31m    4word    #不能以数字开头\u001b[0m\n\u001b[0m        ^\u001b[0m\n\u001b[0;31mSyntaxError\u001b[0m\u001b[0;31m:\u001b[0m invalid syntax\n"
     ]
    }
   ],
   "source": [
    "# 下面的命名是不合法的：\n",
    "4word    #不能以数字开头\n",
    "try      #try是保留字，不能作为标识符\n",
    "$money   #不能包含特殊字符"
   ]
  },
  {
   "cell_type": "code",
   "execution_count": 7,
   "metadata": {},
   "outputs": [
    {
     "name": "stdout",
     "output_type": "stream",
     "text": [
      "python\n",
      "PYTHON\n"
     ]
    }
   ],
   "source": [
    "py = \"python\"\n",
    "PY = \"PYTHON\"\n",
    "print(py);\n",
    "print(PY);"
   ]
  },
  {
   "cell_type": "code",
   "execution_count": null,
   "metadata": {},
   "outputs": [],
   "source": []
  }
 ],
 "metadata": {
  "kernelspec": {
   "display_name": "Python 3",
   "language": "python",
   "name": "python3"
  },
  "language_info": {
   "codemirror_mode": {
    "name": "ipython",
    "version": 3
   },
   "file_extension": ".py",
   "mimetype": "text/x-python",
   "name": "python",
   "nbconvert_exporter": "python",
   "pygments_lexer": "ipython3",
   "version": "3.6.8"
  }
 },
 "nbformat": 4,
 "nbformat_minor": 2
}

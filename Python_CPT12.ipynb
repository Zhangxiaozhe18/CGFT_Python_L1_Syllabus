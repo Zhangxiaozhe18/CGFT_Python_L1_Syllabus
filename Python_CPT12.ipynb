{
 "cells": [
  {
   "cell_type": "code",
   "execution_count": 3,
   "metadata": {},
   "outputs": [
    {
     "name": "stdout",
     "output_type": "stream",
     "text": [
      "hello\n",
      "CGFT\n"
     ]
    }
   ],
   "source": [
    "# \\n在Python中表示换行，print函数在打印字符串s1时，\n",
    "# 会将其最为换行处理\n",
    "s1 = \"hello\\nCGFT\"\n",
    "print(s1)"
   ]
  },
  {
   "cell_type": "code",
   "execution_count": 4,
   "metadata": {},
   "outputs": [
    {
     "name": "stdout",
     "output_type": "stream",
     "text": [
      "hello\\nCGFT\n"
     ]
    }
   ],
   "source": [
    "#字符串前加上r，忽略所有特殊字符的转义\n",
    "s2 = r\"hello\\nCGFT\"\n",
    "print(s2)"
   ]
  },
  {
   "cell_type": "code",
   "execution_count": 5,
   "metadata": {},
   "outputs": [
    {
     "data": {
      "text/plain": [
       "<_sre.SRE_Match object; span=(0, 9), match='010-12345'>"
      ]
     },
     "execution_count": 5,
     "metadata": {},
     "output_type": "execute_result"
    }
   ],
   "source": [
    "import re\n",
    "re.match(r'^\\d{3}\\-\\d{3,8}$', '010-12345')"
   ]
  },
  {
   "cell_type": "code",
   "execution_count": 8,
   "metadata": {},
   "outputs": [
    {
     "name": "stdout",
     "output_type": "stream",
     "text": [
      "匹配成功\n"
     ]
    }
   ],
   "source": [
    "test = r'hello  CGFT'\n",
    "if re.match(r'^[A-Za-z]*\\s+[A-Za-z]*$', test):\n",
    "    print('匹配成功')\n",
    "else:\n",
    "    print('failed')"
   ]
  },
  {
   "cell_type": "code",
   "execution_count": 10,
   "metadata": {},
   "outputs": [
    {
     "data": {
      "text/plain": [
       "['Hello', '欢迎报考', 'CGFT', '祝你成功']"
      ]
     },
     "execution_count": 10,
     "metadata": {},
     "output_type": "execute_result"
    }
   ],
   "source": [
    "# msg里面有若干字符串  被一个或多个空格隔开\n",
    "msg = r\"Hello 欢迎报考    CGFT  祝你成功\"\n",
    "# 我们使用split方法，根据定义的分隔符(\\s+ 表示多个空格)\n",
    "# 将字符串msg分裂成了一个有4个元素的list集合\n",
    "re.split(r'\\s+', msg)"
   ]
  },
  {
   "cell_type": "code",
   "execution_count": 14,
   "metadata": {},
   "outputs": [
    {
     "name": "stdout",
     "output_type": "stream",
     "text": [
      "hello  CGFT\n",
      "hello\n",
      "CGFT\n"
     ]
    }
   ],
   "source": [
    "test = r'hello  CGFT'\n",
    "m = re.match(r'^([A-Za-z]*)\\s+([A-Za-z]*)$', test)\n",
    "print(m.group())\n",
    "print(m.group(1))   #提取的第一个子字符串([A-Za-z]*)\n",
    "print(m.group(2))   #提取的第二个子字符串([A-Za-z]*)"
   ]
  },
  {
   "cell_type": "code",
   "execution_count": 23,
   "metadata": {},
   "outputs": [
    {
     "name": "stdout",
     "output_type": "stream",
     "text": [
      "hello  CGFT\n",
      "good afternoon\n",
      "None\n"
     ]
    }
   ],
   "source": [
    "re_patten = re.compile(r'^([A-Za-z]*)\\s+([A-Za-z]*)$')\n",
    "\n",
    "print(re_patten.match(r'hello  CGFT').group())\n",
    "print(re_patten.match(r'good afternoon').group())\n",
    "print(re_patten.match(r'12345'))  #该字符不匹配re_patten,match()方法返回空对象"
   ]
  },
  {
   "cell_type": "code",
   "execution_count": null,
   "metadata": {},
   "outputs": [],
   "source": []
  }
 ],
 "metadata": {
  "kernelspec": {
   "display_name": "Python 3",
   "language": "python",
   "name": "python3"
  },
  "language_info": {
   "codemirror_mode": {
    "name": "ipython",
    "version": 3
   },
   "file_extension": ".py",
   "mimetype": "text/x-python",
   "name": "python",
   "nbconvert_exporter": "python",
   "pygments_lexer": "ipython3",
   "version": "3.6.8"
  }
 },
 "nbformat": 4,
 "nbformat_minor": 2
}
